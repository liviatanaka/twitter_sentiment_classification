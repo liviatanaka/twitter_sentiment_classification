{
 "cells": [
  {
   "cell_type": "markdown",
   "metadata": {},
   "source": [
    "# Análise de sentimentos em tweets\n",
    "\n",
    "\n",
    "\n",
    "## 1. Dataset\n",
    "A análise de sentimentos é um processo automático para determinar a polaridade de sentimento de um texto. Essa técnica\n",
    "tem um valor comercial pautado no fato de que a partir dela é possível ter uma visão geral do público sobre determinado assunto a partir de tweets. Assim, possibilitando a empresa a estudar as opiniões de seu público e analisar a satisfação do consumidor. No estudo a seguir, será utilizado um classificador para determinar a classe de cada um dos tweets do dataset [Processed twitter sentiment Dataset | Added Tokens](https://www.kaggle.com/datasets/halemogpa/processed). como positivo ou negativo."
   ]
  },
  {
   "cell_type": "markdown",
   "metadata": {},
   "source": [
    "## 2. Pipeline\n",
    "\n",
    "### Pré-processamento"
   ]
  },
  {
   "cell_type": "code",
   "execution_count": 28,
   "metadata": {},
   "outputs": [
    {
     "name": "stderr",
     "output_type": "stream",
     "text": [
      "[nltk_data] Downloading package punkt_tab to\n",
      "[nltk_data]     C:\\Users\\livia\\AppData\\Roaming\\nltk_data...\n",
      "[nltk_data]   Package punkt_tab is already up-to-date!\n"
     ]
    },
    {
     "data": {
      "text/plain": [
       "True"
      ]
     },
     "execution_count": 28,
     "metadata": {},
     "output_type": "execute_result"
    }
   ],
   "source": [
    "# ===== carregando bibliotecas e funções ===== #\n",
    "import pandas as pd\n",
    "import re\n",
    "import numpy as np\n",
    "import matplotlib.pyplot as plt\n",
    "\n",
    "# nltk para pré-processamento\n",
    "from nltk.stem import WordNetLemmatizer\n",
    "from nltk.corpus import stopwords\n",
    "from nltk.tokenize import word_tokenize\n",
    "import nltk\n",
    "nltk.download('punkt_tab')\n",
    "\n"
   ]
  },
  {
   "cell_type": "code",
   "execution_count": 29,
   "metadata": {},
   "outputs": [
    {
     "data": {
      "text/html": [
       "<div>\n",
       "<style scoped>\n",
       "    .dataframe tbody tr th:only-of-type {\n",
       "        vertical-align: middle;\n",
       "    }\n",
       "\n",
       "    .dataframe tbody tr th {\n",
       "        vertical-align: top;\n",
       "    }\n",
       "\n",
       "    .dataframe thead th {\n",
       "        text-align: right;\n",
       "    }\n",
       "</style>\n",
       "<table border=\"1\" class=\"dataframe\">\n",
       "  <thead>\n",
       "    <tr style=\"text-align: right;\">\n",
       "      <th></th>\n",
       "      <th>text</th>\n",
       "      <th>sentiment</th>\n",
       "      <th>tokens</th>\n",
       "    </tr>\n",
       "  </thead>\n",
       "  <tbody>\n",
       "    <tr>\n",
       "      <th>0</th>\n",
       "      <td>@switchfoot http://twitpic.com/2y1zl - Awww, t...</td>\n",
       "      <td>0</td>\n",
       "      <td>['@switchfoot', 'http://twitpic.com/2y1zl', '-...</td>\n",
       "    </tr>\n",
       "    <tr>\n",
       "      <th>1</th>\n",
       "      <td>is upset that he can't update his Facebook by ...</td>\n",
       "      <td>0</td>\n",
       "      <td>['is', 'upset', 'that', 'he', 'ca', \"n't\", 'up...</td>\n",
       "    </tr>\n",
       "    <tr>\n",
       "      <th>2</th>\n",
       "      <td>@Kenichan I dived many times for the ball. Man...</td>\n",
       "      <td>0</td>\n",
       "      <td>['@kenichan', 'i', 'dived', 'many', 'times', '...</td>\n",
       "    </tr>\n",
       "    <tr>\n",
       "      <th>3</th>\n",
       "      <td>my whole body feels itchy and like its on fire</td>\n",
       "      <td>0</td>\n",
       "      <td>['my', 'whole', 'body', 'feels', 'itchy', 'and...</td>\n",
       "    </tr>\n",
       "    <tr>\n",
       "      <th>4</th>\n",
       "      <td>@nationwideclass no, it's not behaving at all....</td>\n",
       "      <td>0</td>\n",
       "      <td>['@nationwideclass', 'no', ',', 'it', \"'s\", 'n...</td>\n",
       "    </tr>\n",
       "  </tbody>\n",
       "</table>\n",
       "</div>"
      ],
      "text/plain": [
       "                                                text  sentiment  \\\n",
       "0  @switchfoot http://twitpic.com/2y1zl - Awww, t...          0   \n",
       "1  is upset that he can't update his Facebook by ...          0   \n",
       "2  @Kenichan I dived many times for the ball. Man...          0   \n",
       "3    my whole body feels itchy and like its on fire           0   \n",
       "4  @nationwideclass no, it's not behaving at all....          0   \n",
       "\n",
       "                                              tokens  \n",
       "0  ['@switchfoot', 'http://twitpic.com/2y1zl', '-...  \n",
       "1  ['is', 'upset', 'that', 'he', 'ca', \"n't\", 'up...  \n",
       "2  ['@kenichan', 'i', 'dived', 'many', 'times', '...  \n",
       "3  ['my', 'whole', 'body', 'feels', 'itchy', 'and...  \n",
       "4  ['@nationwideclass', 'no', ',', 'it', \"'s\", 'n...  "
      ]
     },
     "execution_count": 29,
     "metadata": {},
     "output_type": "execute_result"
    }
   ],
   "source": [
    "# carregando o dataset\n",
    "df = pd.read_csv(\"data/train-processed.csv\")\n",
    "\n",
    "df.head()"
   ]
  },
  {
   "cell_type": "markdown",
   "metadata": {},
   "source": [
    "O número de tweets negativos e positivos está bem equilibrado, tendo apenas 8 tweets de diferença entre uma classificação e outra. E não há linhas com valores nulos."
   ]
  },
  {
   "cell_type": "code",
   "execution_count": 30,
   "metadata": {},
   "outputs": [],
   "source": [
    "# Subconjunto com sentiment 0\n",
    "df_sentiment_0 = df[df['sentiment'] == 0]\n",
    "\n",
    "# Subconjunto com sentiment 1\n",
    "df_sentiment_1 = df[df['sentiment'] == 1]\n",
    "\n",
    "# Amostra 10.000 de cada (ajustando o valor se seu DataFrame tiver menos de 10.000 em cada classe)\n",
    "sample_0 = df_sentiment_0.sample(n=20000, random_state=42)\n",
    "sample_1 = df_sentiment_1.sample(n=20000, random_state=42)\n",
    "\n",
    "# Concatenando as amostras para criar um DataFrame balanceado\n",
    "balanced_sample = pd.concat([sample_0, sample_1])\n",
    "\n",
    "# Embaralhando as linhas para garantir que não haja ordem implícita\n",
    "df_balanced = balanced_sample.sample(frac=1, random_state=42).reset_index(drop=True)"
   ]
  },
  {
   "cell_type": "code",
   "execution_count": 31,
   "metadata": {},
   "outputs": [
    {
     "name": "stdout",
     "output_type": "stream",
     "text": [
      "sentiment\n",
      "1    20000\n",
      "0    20000\n",
      "Name: count, dtype: int64\n",
      "\n",
      "<class 'pandas.core.frame.DataFrame'>\n",
      "RangeIndex: 40000 entries, 0 to 39999\n",
      "Data columns (total 3 columns):\n",
      " #   Column     Non-Null Count  Dtype \n",
      "---  ------     --------------  ----- \n",
      " 0   text       40000 non-null  object\n",
      " 1   sentiment  40000 non-null  int64 \n",
      " 2   tokens     40000 non-null  object\n",
      "dtypes: int64(1), object(2)\n",
      "memory usage: 937.6+ KB\n"
     ]
    }
   ],
   "source": [
    "print(df_balanced[\"sentiment\"].value_counts())\n",
    "print()\n",
    "df_balanced.info()"
   ]
  },
  {
   "cell_type": "markdown",
   "metadata": {},
   "source": [
    "### Peculiaridades dos tweets\n",
    "\n",
    "#### Username\n",
    "No twitter, assim como em outras redes sociais, é comum se referenciar a outros usuários colocando o nome do user com '@' na frente, por exemplo \"@liviatanaka\". Como o nome do user não é algo que influencia no sentimento do tweet em si, vamos trocar as ocorrências de tokens que começam com @ pela palavra \"username\", para então diminuir essa variedade de palavras que não trazem grande significado, por uma palavra que represente todas essas menções de modo que a frase não mude de sentido pela ausência da menção.\n",
    "\n",
    "#### URL\n",
    "\n",
    "Além disso, é muito comum que se mencione URLS nos tweets e assim como os usernames o contéudo presente na URL em si não traz informações relevantes quanto ao sentimento do usuário. Por isso, foi trocado todas os tokens que começam com \"http\" por \"url\".\n",
    "\n",
    "#### Letras repetidas\n",
    "Outro fator que aparece em tweets é a repetição de letras para enfatizar uma palavra, como em `'i was checking my email...hrrrr....im so boooooored!!!  i miss my school'`.\n",
    "\n",
    "O problema é que dessa forma os tokens \"bored\", \"boooored\" e \"booooooored\" são interpretados de maneiras diferentes, apesar de terem o mesmo significado. Diante disso, foi optado por diminuir o número de ocorrências de uma palavra, quando esse passava de 2. Assim, perdendo a enfâse porém focando no significado.\n",
    "\n",
    "Dessa maneira, a frase do exemplo ficou como `'I was checking my email..hr..Im so bored!!  i miss my school'`"
   ]
  },
  {
   "cell_type": "code",
   "execution_count": 32,
   "metadata": {},
   "outputs": [
    {
     "name": "stdout",
     "output_type": "stream",
     "text": [
      "Número de tokens no dataset original: 61612\n"
     ]
    }
   ],
   "source": [
    "def number_of_tokens_in_dataset(df):\n",
    "    return set([item for sublist in df.tokens for item in sublist]).__len__()\n",
    "\n",
    "df_balanced['tokens'] = df_balanced['text'].apply(word_tokenize)\n",
    "\n",
    "orginal_number = number_of_tokens_in_dataset(df_balanced)\n",
    "print(f\"Número de tokens no dataset original: {orginal_number}\")"
   ]
  },
  {
   "cell_type": "code",
   "execution_count": 33,
   "metadata": {},
   "outputs": [],
   "source": [
    "\n",
    "def remove_usernames(text):\n",
    "    return re.sub(r'@[A-Za-z0-9_]+', '', text)\n",
    "\n",
    "def remove_urls(text):\n",
    "    return re.sub(r'http\\S+', 'url', text)\n",
    "\n",
    "def remove_repeated_letters(text):\n",
    "    return re.sub(r'(.)\\1{2,}', r'\\1', text)\n",
    "\n",
    "def pre_processing(df): \n",
    "    df['text'] = df['text'].str.lower()\n",
    "    df['text'] = df['text'].apply(remove_usernames)\n",
    "    df['text'] = df['text'].apply(remove_urls)\n",
    "    df['text'] = df['text'].apply(remove_repeated_letters)\n",
    "\n",
    "    lemmatizer = WordNetLemmatizer()\n",
    "    \n",
    "    # retirar stopwords do texto\n",
    "    stop_words = set(stopwords.words('english'))\n",
    "    df['text'] = df['text'].apply(lambda x: ' '.join([lemmatizer.lemmatize(word) for word in x.split() if word not in (stop_words)]))\n",
    "\n",
    "    # tokenização\n",
    "    df['tokens'] = df['text'].apply(word_tokenize)\n",
    "\n",
    "    return df"
   ]
  },
  {
   "cell_type": "code",
   "execution_count": 34,
   "metadata": {},
   "outputs": [
    {
     "data": {
      "text/html": [
       "<div>\n",
       "<style scoped>\n",
       "    .dataframe tbody tr th:only-of-type {\n",
       "        vertical-align: middle;\n",
       "    }\n",
       "\n",
       "    .dataframe tbody tr th {\n",
       "        vertical-align: top;\n",
       "    }\n",
       "\n",
       "    .dataframe thead th {\n",
       "        text-align: right;\n",
       "    }\n",
       "</style>\n",
       "<table border=\"1\" class=\"dataframe\">\n",
       "  <thead>\n",
       "    <tr style=\"text-align: right;\">\n",
       "      <th></th>\n",
       "      <th>text</th>\n",
       "      <th>sentiment</th>\n",
       "      <th>tokens</th>\n",
       "    </tr>\n",
       "  </thead>\n",
       "  <tbody>\n",
       "    <tr>\n",
       "      <th>0</th>\n",
       "      <td>love miss friend(s), mention brother. thats mr...</td>\n",
       "      <td>1</td>\n",
       "      <td>[love, miss, friend, (, s, ), ,, mention, brot...</td>\n",
       "    </tr>\n",
       "    <tr>\n",
       "      <th>1</th>\n",
       "      <td>aww always miss good part bb</td>\n",
       "      <td>0</td>\n",
       "      <td>[aww, always, miss, good, part, bb]</td>\n",
       "    </tr>\n",
       "    <tr>\n",
       "      <th>2</th>\n",
       "      <td>know do! want see them. want copy</td>\n",
       "      <td>1</td>\n",
       "      <td>[know, do, !, want, see, them, ., want, copy]</td>\n",
       "    </tr>\n",
       "    <tr>\n",
       "      <th>3</th>\n",
       "      <td>ang hirap mo ireject! url</td>\n",
       "      <td>0</td>\n",
       "      <td>[ang, hirap, mo, ireject, !, url]</td>\n",
       "    </tr>\n",
       "    <tr>\n",
       "      <th>4</th>\n",
       "      <td>haha definitely does, yumy.</td>\n",
       "      <td>1</td>\n",
       "      <td>[haha, definitely, does, ,, yumy, .]</td>\n",
       "    </tr>\n",
       "  </tbody>\n",
       "</table>\n",
       "</div>"
      ],
      "text/plain": [
       "                                                text  sentiment  \\\n",
       "0  love miss friend(s), mention brother. thats mr...          1   \n",
       "1                       aww always miss good part bb          0   \n",
       "2                  know do! want see them. want copy          1   \n",
       "3                          ang hirap mo ireject! url          0   \n",
       "4                        haha definitely does, yumy.          1   \n",
       "\n",
       "                                              tokens  \n",
       "0  [love, miss, friend, (, s, ), ,, mention, brot...  \n",
       "1                [aww, always, miss, good, part, bb]  \n",
       "2      [know, do, !, want, see, them, ., want, copy]  \n",
       "3                  [ang, hirap, mo, ireject, !, url]  \n",
       "4               [haha, definitely, does, ,, yumy, .]  "
      ]
     },
     "execution_count": 34,
     "metadata": {},
     "output_type": "execute_result"
    }
   ],
   "source": [
    "df_ = df_balanced.copy()\n",
    "pre_processing(df_)\n",
    "df_.head()\n"
   ]
  },
  {
   "cell_type": "code",
   "execution_count": 35,
   "metadata": {},
   "outputs": [
    {
     "name": "stdout",
     "output_type": "stream",
     "text": [
      "Número de tokens no dataset processado: 34116\n",
      "Diferença de tokens: 27496\n"
     ]
    }
   ],
   "source": [
    "processed_number = number_of_tokens_in_dataset(df_)\n",
    "print(f\"Número de tokens no dataset processado: {processed_number}\")\n",
    "print(f\"Diferença de tokens: {orginal_number - processed_number}\")"
   ]
  },
  {
   "cell_type": "markdown",
   "metadata": {},
   "source": [
    "## Definição da pipeline\n",
    "O modelo escolhido foi o bag-of-words (BoW), pois assume-se que, para esse caso, a ordem das palavras não é tão relevante. O mais importante é o significado de cada uma delas em relação a se é uma palavra com sentido positivo ou negativo. Para compor a pipeline, foi utilizado um vetorizador e um classificador. O vetorizador utilizado foi o CountVectorizer do scikit-learn com o max_features como 5000  , ele transforma os textos em vetores númericos contando o número de ocorrência das palavras. Já o classificador foi utilizado o método de regressão linear , no qual os coeficientes representam os pesos de cada uma das palavras, sendo essas as features para determinar se o texto possui a classe positiva (1) ou negativa (0). Para regressão, foi utilizado C como 0.1 e o max_iter como 1000.\n"
   ]
  },
  {
   "cell_type": "code",
   "execution_count": 36,
   "metadata": {},
   "outputs": [],
   "source": [
    "# importando bibliotecas\n",
    "from sklearn.pipeline import Pipeline\n",
    "from sklearn.linear_model import LogisticRegression\n",
    "from sklearn.feature_extraction.text import CountVectorizer, TfidfVectorizer\n",
    "from sklearn.naive_bayes import BernoulliNB\n",
    "from sklearn.model_selection import cross_val_score, train_test_split, GridSearchCV, cross_validate\n",
    "from sklearn.metrics import balanced_accuracy_score, make_scorer \n",
    "\n"
   ]
  },
  {
   "cell_type": "code",
   "execution_count": 37,
   "metadata": {},
   "outputs": [],
   "source": [
    "# Separação do dataset entre treino e teste\n",
    "\n",
    "X = df_['text']\n",
    "y = df_['sentiment']\n",
    "X_training, X_test, y_training, y_test = train_test_split(X, y, test_size=0.2)\n"
   ]
  },
  {
   "cell_type": "markdown",
   "metadata": {},
   "source": [
    "### Definindo os melhores parametros"
   ]
  },
  {
   "cell_type": "code",
   "execution_count": 38,
   "metadata": {},
   "outputs": [
    {
     "name": "stdout",
     "output_type": "stream",
     "text": [
      "Melhores parâmetros: {'model__C': 0.1, 'vectorizer__max_features': 5000}\n",
      "Melhor acurácia balanceada: 0.7408251259742623\n"
     ]
    }
   ],
   "source": [
    "# Definição da pipeline\n",
    "test_pipe = Pipeline([\n",
    "    ('vectorizer', CountVectorizer(binary=True)),\n",
    "    ('model', LogisticRegression(max_iter=1000))\n",
    "])\n",
    "\n",
    "# Definição dos parâmetros a serem testados\n",
    "param_grid = {\n",
    "    'vectorizer__max_features': [ 5000, 10000, 15000],\n",
    "    'model__C': [0.1, 1, 10],\n",
    "\n",
    "}\n",
    "\n",
    "# GridSearch com validação cruzada\n",
    "grid_search = GridSearchCV(test_pipe, param_grid, cv=5, scoring='balanced_accuracy')\n",
    "grid_search.fit(X_training, y_training)\n",
    "\n",
    "print(\"Melhores parâmetros:\", grid_search.best_params_)\n",
    "print(\"Melhor acurácia balanceada:\", grid_search.best_score_)\n"
   ]
  },
  {
   "cell_type": "markdown",
   "metadata": {},
   "source": [
    "## 3. Avaliação do classificador"
   ]
  },
  {
   "cell_type": "code",
   "execution_count": 39,
   "metadata": {},
   "outputs": [],
   "source": [
    "from sklearn.metrics import confusion_matrix"
   ]
  },
  {
   "cell_type": "code",
   "execution_count": 40,
   "metadata": {},
   "outputs": [],
   "source": [
    "final_pipes = Pipeline([\n",
    "    ('vectorizer', CountVectorizer(max_features=5000,  binary=True)),\n",
    "    ('model', LogisticRegression(C=0.1, max_iter=1000))\n",
    "])\n",
    "\n",
    "scoring = {\n",
    "    'balanced_accuracy': make_scorer(balanced_accuracy_score), \n",
    "}\n",
    "\n",
    "results = cross_validate(final_pipes, X, y, cv=100, scoring=scoring, return_train_score=True)"
   ]
  },
  {
   "cell_type": "code",
   "execution_count": 41,
   "metadata": {},
   "outputs": [
    {
     "name": "stdout",
     "output_type": "stream",
     "text": [
      "Média de Balanced Accuracy no treino: 0.7897719696969697\n",
      "Média de Balanced Accuracy no teste: 0.748225\n",
      "Desvio padrão de Balanced Accuracy no treino: 0.000458671717477583\n",
      "Desvio padrão de Balanced Accuracy no teste: 0.02090542692699673\n"
     ]
    }
   ],
   "source": [
    "print(\"Média de Balanced Accuracy no treino:\", results['train_balanced_accuracy'].mean())\n",
    "print(\"Média de Balanced Accuracy no teste:\", results['test_balanced_accuracy'].mean())\n",
    "print(\"Desvio padrão de Balanced Accuracy no treino:\", results['train_balanced_accuracy'].std())\n",
    "print(\"Desvio padrão de Balanced Accuracy no teste:\", results['test_balanced_accuracy'].std())\n"
   ]
  },
  {
   "cell_type": "markdown",
   "metadata": {},
   "source": [
    "### Matriz de confusão \n",
    "Na matriz de confusão é possível notar que o classificador tende a acertar praticamente a mesma quandidade de classificações para ambas as classes, negativa e positiva."
   ]
  },
  {
   "cell_type": "code",
   "execution_count": 65,
   "metadata": {},
   "outputs": [
    {
     "data": {
      "image/png": "[encoded data removed]",
      "text/plain": [
       "<Figure size 1000x700 with 2 Axes>"
      ]
     },
     "metadata": {},
     "output_type": "display_data"
    }
   ],
   "source": [
    "\n",
    "# realizando as predições\n",
    "final_pipes.fit(X_training, y_training)\n",
    "y_pred = final_pipes.predict(X_test)\n",
    "accuracy = balanced_accuracy_score(y_test, y_pred)\n",
    "\n",
    "# plotando a matriz de confusão\n",
    "cm = confusion_matrix(y_test, y_pred, labels=final_pipes.classes_)\n",
    "\n",
    "plt.figure(figsize=(10, 7))\n",
    "plt.matshow(cm, fignum=1, cmap='RdYlGn', alpha=0.7)\n",
    "\n",
    "for (i, j), val in np.ndenumerate(cm):\n",
    "    plt.text(j, i, f\"{val:.0f}\", ha='center', va='center')\n",
    "\n",
    "plt.title(f\"Confusion Matrix - Balanced Accuracy: {accuracy:.3f}\")\n",
    "plt.xlabel(\"Predicted label\")\n",
    "plt.ylabel(\"True label\")\n",
    "plt.xticks(range(len(final_pipes.classes_)), final_pipes.classes_)\n",
    "plt.yticks(range(len(final_pipes.classes_)), final_pipes.classes_)\n",
    "plt.colorbar()\n",
    "plt.show()\n",
    "\n"
   ]
  },
  {
   "cell_type": "markdown",
   "metadata": {},
   "source": [
    "Na figura acima é possível notar que há uma pequena diferença de resultado, posto que a classificação de textos como negativos tende a ter mais erros do que a de positivos. Uma hipótese para essa diferença é que textos com ironia, normalmente possuem um sentimento negativo expressado por palavras positivas. Por exemplo, frases como \"What a great day to be run over by a bus!\" e \"I love when my phone autocorrects 'my name to 'smartass'\" são classificadas como positivas."
   ]
  },
  {
   "cell_type": "code",
   "execution_count": 43,
   "metadata": {},
   "outputs": [
    {
     "name": "stdout",
     "output_type": "stream",
     "text": [
      "[1]\n",
      "[1]\n"
     ]
    }
   ],
   "source": [
    "test_model = grid_search.best_estimator_\n",
    "\n",
    "print(test_model.predict([\"What a great day to be run over by a bus!\"]))\n",
    "print(test_model.predict([\"I love when my phone autocorrects 'my name to 'smartass'\"]))\n",
    "\n"
   ]
  },
  {
   "cell_type": "markdown",
   "metadata": {},
   "source": [
    "### Palavras mais importantes\n",
    "As palavras negativas estão associadas a sentimentos de tristeza, saudade e dor.Já as positivas são, em geral, sentimentos de agradecimento e onomatopeias de risada e comemoração."
   ]
  },
  {
   "cell_type": "code",
   "execution_count": 44,
   "metadata": {},
   "outputs": [
    {
     "data": {
      "text/html": [
       "<div>\n",
       "<style scoped>\n",
       "    .dataframe tbody tr th:only-of-type {\n",
       "        vertical-align: middle;\n",
       "    }\n",
       "\n",
       "    .dataframe tbody tr th {\n",
       "        vertical-align: top;\n",
       "    }\n",
       "\n",
       "    .dataframe thead th {\n",
       "        text-align: right;\n",
       "    }\n",
       "</style>\n",
       "<table border=\"1\" class=\"dataframe\">\n",
       "  <thead>\n",
       "    <tr style=\"text-align: right;\">\n",
       "      <th></th>\n",
       "      <th>Peso</th>\n",
       "    </tr>\n",
       "  </thead>\n",
       "  <tbody>\n",
       "    <tr>\n",
       "      <th>thanks</th>\n",
       "      <td>1.448671</td>\n",
       "    </tr>\n",
       "    <tr>\n",
       "      <th>thank</th>\n",
       "      <td>1.343958</td>\n",
       "    </tr>\n",
       "    <tr>\n",
       "      <th>welcome</th>\n",
       "      <td>1.175617</td>\n",
       "    </tr>\n",
       "    <tr>\n",
       "      <th>yay</th>\n",
       "      <td>1.122639</td>\n",
       "    </tr>\n",
       "    <tr>\n",
       "      <th>hehe</th>\n",
       "      <td>1.002394</td>\n",
       "    </tr>\n",
       "  </tbody>\n",
       "</table>\n",
       "</div>"
      ],
      "text/plain": [
       "             Peso\n",
       "thanks   1.448671\n",
       "thank    1.343958\n",
       "welcome  1.175617\n",
       "yay      1.122639\n",
       "hehe     1.002394"
      ]
     },
     "execution_count": 44,
     "metadata": {},
     "output_type": "execute_result"
    }
   ],
   "source": [
    "\n",
    "feature_names = final_pipes.named_steps['vectorizer'].get_feature_names_out()\n",
    "coef = final_pipes.named_steps['model'].coef_\n",
    "\n",
    "df_coef = pd.DataFrame(coef, columns=feature_names).T\n",
    "df_coef.columns = ['Peso']\n",
    "\n",
    "df_coef_positive = df_coef.sort_values(by='Peso', ascending=False)\n",
    "df_coef_positive.head(5)\n",
    "\n"
   ]
  },
  {
   "cell_type": "code",
   "execution_count": 45,
   "metadata": {},
   "outputs": [
    {
     "data": {
      "text/html": [
       "<div>\n",
       "<style scoped>\n",
       "    .dataframe tbody tr th:only-of-type {\n",
       "        vertical-align: middle;\n",
       "    }\n",
       "\n",
       "    .dataframe tbody tr th {\n",
       "        vertical-align: top;\n",
       "    }\n",
       "\n",
       "    .dataframe thead th {\n",
       "        text-align: right;\n",
       "    }\n",
       "</style>\n",
       "<table border=\"1\" class=\"dataframe\">\n",
       "  <thead>\n",
       "    <tr style=\"text-align: right;\">\n",
       "      <th></th>\n",
       "      <th>Peso</th>\n",
       "    </tr>\n",
       "  </thead>\n",
       "  <tbody>\n",
       "    <tr>\n",
       "      <th>sad</th>\n",
       "      <td>-2.340818</td>\n",
       "    </tr>\n",
       "    <tr>\n",
       "      <th>wish</th>\n",
       "      <td>-1.708286</td>\n",
       "    </tr>\n",
       "    <tr>\n",
       "      <th>sick</th>\n",
       "      <td>-1.560927</td>\n",
       "    </tr>\n",
       "    <tr>\n",
       "      <th>miss</th>\n",
       "      <td>-1.546740</td>\n",
       "    </tr>\n",
       "    <tr>\n",
       "      <th>hurt</th>\n",
       "      <td>-1.406317</td>\n",
       "    </tr>\n",
       "  </tbody>\n",
       "</table>\n",
       "</div>"
      ],
      "text/plain": [
       "          Peso\n",
       "sad  -2.340818\n",
       "wish -1.708286\n",
       "sick -1.560927\n",
       "miss -1.546740\n",
       "hurt -1.406317"
      ]
     },
     "execution_count": 45,
     "metadata": {},
     "output_type": "execute_result"
    }
   ],
   "source": [
    "df_coef_negative = df_coef.sort_values(by='Peso', ascending=True)\n",
    "df_coef_negative.head(5)"
   ]
  },
  {
   "cell_type": "markdown",
   "metadata": {},
   "source": [
    "## Avaliação do tamanho do dataset"
   ]
  },
  {
   "cell_type": "code",
   "execution_count": 46,
   "metadata": {},
   "outputs": [],
   "source": [
    "# importando bibliotecas \n",
    "from sklearn.model_selection import learning_curve"
   ]
  },
  {
   "cell_type": "code",
   "execution_count": 57,
   "metadata": {},
   "outputs": [],
   "source": [
    "scorer = make_scorer(balanced_accuracy_score)\n",
    "\n",
    "train_sizes = np.linspace(0.05, 1.0, 20)\n",
    "\n",
    "# Gerar as curvas de aprendizado\n",
    "train_sizes, train_scores, valid_scores = learning_curve(\n",
    "    estimator=final_pipes, \n",
    "    X=X, \n",
    "    y=y, \n",
    "    train_sizes=train_sizes, \n",
    "    cv=10, \n",
    "    scoring=scorer, \n",
    "    n_jobs=-1\n",
    ")\n"
   ]
  },
  {
   "cell_type": "code",
   "execution_count": 60,
   "metadata": {},
   "outputs": [
    {
     "data": {
      "image/png": "[encoded data removed]",
      "text/plain": [
       "<Figure size 1000x700 with 1 Axes>"
      ]
     },
     "metadata": {},
     "output_type": "display_data"
    }
   ],
   "source": [
    "\n",
    "plt.figure(figsize=(10, 7))\n",
    "plt.plot(train_sizes, valid_scores.mean(axis=1), label='Validation Balanced Accuracy')\n",
    "plt.title('Accuracy for different dataset sizes')\n",
    "plt.xlabel('Training Set Size')\n",
    "plt.ylabel('Balanced Accuracy')\n",
    "plt.legend()\n",
    "plt.grid()\n",
    "plt.show()\n"
   ]
  },
  {
   "cell_type": "code",
   "execution_count": 61,
   "metadata": {},
   "outputs": [
    {
     "data": {
      "image/png": "[encoded data removed]",
      "text/plain": [
       "<Figure size 1000x600 with 1 Axes>"
      ]
     },
     "metadata": {},
     "output_type": "display_data"
    }
   ],
   "source": [
    "\n",
    "# calculando os erros\n",
    "train_scores_errors = 1 - train_scores\n",
    "valid_scores_errors = 1 - valid_scores\n",
    "\n",
    "# calculando as médias e desvios padrão para treino e validação\n",
    "train_mean = np.mean(train_scores_errors, axis=1)\n",
    "train_std = np.std(train_scores, axis=1)\n",
    "valid_mean = np.mean(valid_scores_errors, axis=1)\n",
    "valid_std = np.std(valid_scores, axis=1)\n",
    "\n",
    "# gráfico das curvas de aprendizado\n",
    "plt.figure(figsize=(10, 6))\n",
    "plt.plot(train_sizes, train_mean, label=\"Train\", color=\"blue\", marker=\"o\")\n",
    "plt.plot(train_sizes, valid_mean, label=\"Validation\", color=\"green\", marker=\"o\")\n",
    "plt.ylim(0, 0.4)\n",
    "\n",
    "\n",
    "plt.title(\"Learning Curves\")\n",
    "plt.xlabel(\"Training Set Size\")\n",
    "plt.ylabel(\"Error Rate (1 - Balanced Accuracy)\")\n",
    "plt.legend(loc=\"best\")\n",
    "plt.grid(True)\n",
    "plt.show()\n"
   ]
  },
  {
   "cell_type": "markdown",
   "metadata": {},
   "source": [
    "## Análise de Tópicos\n",
    "\n"
   ]
  },
  {
   "cell_type": "code",
   "execution_count": 66,
   "metadata": {},
   "outputs": [],
   "source": [
    "from sklearn.feature_extraction.text import CountVectorizer\n",
    "from sklearn.decomposition import NMF\n"
   ]
  },
  {
   "cell_type": "code",
   "execution_count": 67,
   "metadata": {},
   "outputs": [
    {
     "name": "stdout",
     "output_type": "stream",
     "text": [
      "Melhores parâmetros: {'nmf__n_components': 6}\n",
      "Melhor acurácia balanceada: 0.5638686125471774\n"
     ]
    }
   ],
   "source": [
    "topic_pipe = Pipeline([('vectorizer', CountVectorizer( stop_words=\"english\", max_features=10000)),\n",
    "                                    ('nmf', NMF()),\n",
    "                                    ('classifier', LogisticRegression(max_iter=1000, C=1))])\n",
    "\n",
    "\n",
    "param_grid = {\n",
    "    'nmf__n_components': [2, 3, 4, 5, 6, 7, 8],\n",
    "}\n",
    "\n",
    "grid_search_topic = GridSearchCV(topic_pipe, param_grid, cv=5, scoring='balanced_accuracy')\n",
    "grid_search_topic.fit(X_training, y_training)\n",
    "\n",
    "print(\"Melhores parâmetros:\", grid_search_topic.best_params_)\n",
    "print(\"Melhor acurácia balanceada:\", grid_search_topic.best_score_)\n",
    "\n"
   ]
  },
  {
   "cell_type": "code",
   "execution_count": 68,
   "metadata": {},
   "outputs": [
    {
     "data": {
      "text/plain": [
       "np.float64(0.5720500000000001)"
      ]
     },
     "execution_count": 68,
     "metadata": {},
     "output_type": "execute_result"
    }
   ],
   "source": [
    "cross_val_score(grid_search_topic.best_estimator_, X, y, cv=10, scoring='balanced_accuracy').mean()"
   ]
  },
  {
   "cell_type": "code",
   "execution_count": 69,
   "metadata": {},
   "outputs": [
    {
     "name": "stdout",
     "output_type": "stream",
     "text": [
      "Topic 0\n",
      "got 2.51\n",
      "going 2.77\n",
      "time 2.86\n",
      "today 3.13\n",
      "work 4.17\n",
      "\n",
      "Topic 1\n",
      "new 0.15\n",
      "song 0.15\n",
      "amp 0.19\n",
      "say 0.20\n",
      "quot 6.69\n",
      "\n",
      "Topic 2\n",
      "mother 0.24\n",
      "today 0.38\n",
      "great 0.38\n",
      "happy 0.49\n",
      "day 5.86\n",
      "\n",
      "Topic 3\n",
      "feel 0.20\n",
      "luck 0.27\n",
      "night 0.73\n",
      "morning 1.19\n",
      "good 5.68\n",
      "\n",
      "Topic 4\n",
      "really 0.25\n",
      "sound 0.32\n",
      "look 0.76\n",
      "feel 0.96\n",
      "like 5.60\n",
      "\n",
      "Topic 5\n",
      "thanks 0.25\n",
      "lt 0.29\n",
      "new 0.48\n",
      "url 3.06\n",
      "love 4.12\n",
      "\n",
      "\n"
     ]
    }
   ],
   "source": [
    "final_topic_pipe = grid_search_topic.best_estimator_\n",
    "words = final_topic_pipe.named_steps['vectorizer'].get_feature_names_out()\n",
    "for idx, topic in enumerate(final_topic_pipe.named_steps['nmf'].components_):\n",
    "    print(f\"Topic {idx}\")\n",
    "    for i in topic.argsort()[-5:]:\n",
    "        print(words[i], f\"{topic[i]:.2f}\")\n",
    "    print()\n",
    "print()"
   ]
  },
  {
   "cell_type": "code",
   "execution_count": 76,
   "metadata": {},
   "outputs": [
    {
     "data": {
      "image/png": "[encoded data removed]",
      "text/plain": [
       "<Figure size 640x480 with 1 Axes>"
      ]
     },
     "metadata": {},
     "output_type": "display_data"
    }
   ],
   "source": [
    "\n",
    "vectorizer = CountVectorizer(stop_words='english', max_features=5000, binary=True)\n",
    "X_vec = vectorizer.fit_transform(X)\n",
    "\n",
    "nmf = NMF(n_components=6) # n_components -> number of topics\n",
    "X_nmf = nmf.fit_transform(X_vec) # matrix W\n",
    "\n",
    "topic = np.argmax(X_nmf, axis=1)\n",
    "plt.hist(topic, bins=len(set(topic)))\n",
    "plt.title(\"Topic distribution\")\n",
    "plt.xlabel(\"Topic\")\n",
    "plt.ylabel(\"Number of tweets\")\n",
    "plt.show()\n"
   ]
  }
 ],
 "metadata": {
  "kernelspec": {
   "display_name": "env",
   "language": "python",
   "name": "python3"
  },
  "language_info": {
   "codemirror_mode": {
    "name": "ipython",
    "version": 3
   },
   "file_extension": ".py",
   "mimetype": "text/x-python",
   "name": "python",
   "nbconvert_exporter": "python",
   "pygments_lexer": "ipython3",
   "version": "3.10.2"
  }
 },
 "nbformat": 4,
 "nbformat_minor": 2
}
